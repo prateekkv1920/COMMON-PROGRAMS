{
 "cells": [
  {
   "cell_type": "markdown",
   "id": "fee1cc8b",
   "metadata": {},
   "source": [
    "# Program-1 WAP Addition of two number in python Program"
   ]
  },
  {
   "cell_type": "code",
   "execution_count": 2,
   "id": "c68c8313",
   "metadata": {},
   "outputs": [
    {
     "name": "stdout",
     "output_type": "stream",
     "text": [
      "enter 1st number 141\n",
      "enter 2nd number 13\n",
      "154\n"
     ]
    }
   ],
   "source": [
    "a=int(input(\"enter 1st number \"))\n",
    "b=int(input(\"enter 2nd number \"))\n",
    "print(a+b)"
   ]
  },
  {
   "cell_type": "markdown",
   "id": "3dbb8777",
   "metadata": {},
   "source": [
    "# Program-2 WAP Armstrong number in python\n"
   ]
  },
  {
   "cell_type": "code",
   "execution_count": 11,
   "id": "c759e376",
   "metadata": {},
   "outputs": [
    {
     "name": "stdout",
     "output_type": "stream",
     "text": [
      "enter a number153\n",
      "the given number 153 is armstrong number\n"
     ]
    }
   ],
   "source": [
    "n=int(input(\"enter a number\"))\n",
    "s=n\n",
    "b=len(str(n))\n",
    "sum1=0\n",
    "while n!=0:\n",
    "    r=n%10\n",
    "    sum1=sum1+(r**b)\n",
    "    n=n//10\n",
    "if s==sum1:\n",
    "    print(\"the given number\",s,\"is armstrong number\")\n",
    "else:\n",
    "    print(\"the given number\",s,\"is not armstrong number\")"
   ]
  },
  {
   "cell_type": "markdown",
   "id": "599daade",
   "metadata": {},
   "source": [
    "# Program-3 WAP Find the square root of a number in python\n"
   ]
  },
  {
   "cell_type": "code",
   "execution_count": 7,
   "id": "130e3894",
   "metadata": {},
   "outputs": [
    {
     "name": "stdout",
     "output_type": "stream",
     "text": [
      "enter a number23\n"
     ]
    },
    {
     "data": {
      "text/plain": [
       "4.795831523312719"
      ]
     },
     "execution_count": 7,
     "metadata": {},
     "output_type": "execute_result"
    }
   ],
   "source": [
    "import math\n",
    "x=int(input(\"enter a number\"))\n",
    "math.sqrt(x)"
   ]
  },
  {
   "cell_type": "markdown",
   "id": "8a6b1e32",
   "metadata": {},
   "source": [
    "# Program-4 WAP to convert binary number into decimal number and vice versa in python\n"
   ]
  },
  {
   "cell_type": "code",
   "execution_count": 14,
   "id": "eb4ac6b5",
   "metadata": {},
   "outputs": [
    {
     "name": "stdout",
     "output_type": "stream",
     "text": [
      "enter a number3.5\n",
      "float num in intger 3\n"
     ]
    }
   ],
   "source": [
    "s=float(input(\"enter a number\"))\n",
    "print(\"float num in intger\",(int(s)))"
   ]
  },
  {
   "cell_type": "code",
   "execution_count": 2,
   "id": "88711bb7",
   "metadata": {},
   "outputs": [
    {
     "name": "stdout",
     "output_type": "stream",
     "text": [
      "enter a number4\n",
      "intger num in float 4.0\n"
     ]
    }
   ],
   "source": [
    "s=int(input(\"enter a number\"))\n",
    "print(\"intger num in float\",(float(s)))"
   ]
  },
  {
   "cell_type": "markdown",
   "id": "0c88bb25",
   "metadata": {},
   "source": [
    "# Program-5 WAP to sort the elements of the array in ascending order using Bubble/selection/insertion sort technique in python "
   ]
  },
  {
   "cell_type": "code",
   "execution_count": 6,
   "id": "30cdcae7",
   "metadata": {},
   "outputs": [
    {
     "name": "stdout",
     "output_type": "stream",
     "text": [
      "Sorted array using Bubble Sort: [11, 12, 22, 25, 34, 64, 90]\n"
     ]
    }
   ],
   "source": [
    "arr = [64, 34, 25, 12, 22, 11, 90]\n",
    "n = len(arr)\n",
    "for i in range(n-1):\n",
    "    for j in range(0, n-i-1):\n",
    "        if arr[j] > arr[j+1]:\n",
    "            arr[j], arr[j+1] = arr[j+1], arr[j]\n",
    "\n",
    "print(\"Sorted array using Bubble Sort:\", arr)\n"
   ]
  },
  {
   "cell_type": "code",
   "execution_count": 5,
   "id": "0b94dd87",
   "metadata": {},
   "outputs": [
    {
     "name": "stdout",
     "output_type": "stream",
     "text": [
      "Sorted array using Selection Sort: [11, 12, 22, 25, 34, 64, 90]\n"
     ]
    }
   ],
   "source": [
    "arr = [64, 34, 25, 12, 22, 11, 90]\n",
    "n = len(arr)\n",
    "for i in range(n):\n",
    "    min_idx = i\n",
    "    for j in range(i+1, n):\n",
    "        if arr[min_idx] > arr[j]:\n",
    "            min_idx = j\n",
    "    arr[i], arr[min_idx] = arr[min_idx], arr[i]\n",
    "\n",
    "print(\"Sorted array using Selection Sort:\", arr)\n"
   ]
  },
  {
   "cell_type": "code",
   "execution_count": 4,
   "id": "db36f6de",
   "metadata": {},
   "outputs": [
    {
     "name": "stdout",
     "output_type": "stream",
     "text": [
      "Sorted array using Insertion Sort: [11, 12, 22, 25, 34, 64, 90]\n"
     ]
    }
   ],
   "source": [
    "arr = [64, 34, 25, 12, 22, 11, 90]\n",
    "for i in range(1, len(arr)):\n",
    "    key = arr[i]\n",
    "    j = i - 1\n",
    "    while j >= 0 and key < arr[j]:\n",
    "        arr[j + 1] = arr[j]\n",
    "        j -= 1\n",
    "    arr[j + 1] = key\n",
    "\n",
    "print(\"Sorted array using Insertion Sort:\", arr)\n"
   ]
  },
  {
   "cell_type": "code",
   "execution_count": 48,
   "id": "23537dd5",
   "metadata": {},
   "outputs": [
    {
     "name": "stdout",
     "output_type": "stream",
     "text": [
      "[[ 2  3  4]\n",
      " [ 2  6  3]\n",
      " [23  5  4]]\n"
     ]
    },
    {
     "ename": "ValueError",
     "evalue": "The truth value of an array with more than one element is ambiguous. Use a.any() or a.all()",
     "output_type": "error",
     "traceback": [
      "\u001b[1;31m---------------------------------------------------------------------------\u001b[0m",
      "\u001b[1;31mValueError\u001b[0m                                Traceback (most recent call last)",
      "Cell \u001b[1;32mIn[48], line 9\u001b[0m\n\u001b[0;32m      7\u001b[0m swapped \u001b[38;5;241m=\u001b[39m \u001b[38;5;28;01mFalse\u001b[39;00m\n\u001b[0;32m      8\u001b[0m \u001b[38;5;28;01mfor\u001b[39;00m j \u001b[38;5;129;01min\u001b[39;00m \u001b[38;5;28mrange\u001b[39m(\u001b[38;5;241m0\u001b[39m, n\u001b[38;5;241m-\u001b[39mi\u001b[38;5;241m-\u001b[39m\u001b[38;5;241m1\u001b[39m):\n\u001b[1;32m----> 9\u001b[0m     \u001b[38;5;28;01mif\u001b[39;00m x[j] \u001b[38;5;241m>\u001b[39m x[j\u001b[38;5;241m+\u001b[39m\u001b[38;5;241m1\u001b[39m]:\n\u001b[0;32m     10\u001b[0m         x[j], x[j\u001b[38;5;241m+\u001b[39m\u001b[38;5;241m1\u001b[39m] \u001b[38;5;241m=\u001b[39m x[j\u001b[38;5;241m+\u001b[39m\u001b[38;5;241m1\u001b[39m], x[j]\n\u001b[0;32m     11\u001b[0m         swapped \u001b[38;5;241m=\u001b[39m \u001b[38;5;28;01mTrue\u001b[39;00m\n",
      "\u001b[1;31mValueError\u001b[0m: The truth value of an array with more than one element is ambiguous. Use a.any() or a.all()"
     ]
    }
   ],
   "source": [
    "import numpy as np \n",
    "x = np.array([[2,3,4],[2,6,3],[23,5,4]])\n",
    "print(x)\n",
    "n=len(x)\n",
    "n = len(x)\n",
    "for i in range(n):\n",
    "    swapped = False\n",
    "    for j in range(0, n-i-1):\n",
    "        if x[j] > x[j+1]:\n",
    "            x[j], x[j+1] = x[j+1], x[j]\n",
    "            swapped = True\n",
    "            if not swapped:\n",
    "                break\n",
    "print(\"te aaray\",x)                "
   ]
  },
  {
   "cell_type": "markdown",
   "id": "2bcb7579",
   "metadata": {},
   "source": [
    "# Program-7 WAP palindrome number in python\n"
   ]
  },
  {
   "cell_type": "code",
   "execution_count": 8,
   "id": "e2b4a3ad",
   "metadata": {},
   "outputs": [
    {
     "name": "stdout",
     "output_type": "stream",
     "text": [
      "enter the number12321\n",
      "it is pallindrome number\n"
     ]
    }
   ],
   "source": [
    "x=input(\"enter the number\")\n",
    "if x==x[::-1]:\n",
    "    print(\"it is pallindrome number\")\n",
    "else:\n",
    "    print(\"it is not pallindrome\")\n",
    "\n",
    "\n"
   ]
  },
  {
   "cell_type": "markdown",
   "id": "1a597ec0",
   "metadata": {},
   "source": [
    "# WAP to find the status of employee-insured or not under given condition in python. "
   ]
  },
  {
   "cell_type": "markdown",
   "id": "7c948d99",
   "metadata": {},
   "source": [
    "# Program-8 MARRIED INSURED MALE & AGE>30 INSURED FEMALE & AGE>25 INSURED\n"
   ]
  },
  {
   "cell_type": "code",
   "execution_count": 16,
   "id": "c715860b",
   "metadata": {},
   "outputs": [
    {
     "name": "stdout",
     "output_type": "stream",
     "text": [
      "enter a married status MARRIED or UNMARRIED  MARRIED\n",
      "enter sex M or F  M\n",
      "enter your age  34\n",
      "all condition Are ensured\n"
     ]
    }
   ],
   "source": [
    "ma=input(\"enter a married status MARRIED or UNMARRIED  \")\n",
    "s=input(\"enter sex M or F  \")\n",
    "a=int(input(\"enter your age  \"))\n",
    "\n",
    "if ma=='MARRIED':\n",
    "    if s=='M':\n",
    "        if a>30:\n",
    "            print(\"all condition Are ensured\")\n",
    "        else:\n",
    "            print(\"not satisfied\")\n",
    "elif ma=='MARRIED':\n",
    "    if s=='F':\n",
    "        if a>25:\n",
    "            print(\"all condition Are ensured\")\n",
    "    else:\n",
    "        print(\"not satisfied\")  \n",
    "else:\n",
    "    print(\"not satisfied\")\n",
    "    \n",
    "    \n",
    "    "
   ]
  },
  {
   "cell_type": "markdown",
   "id": "b270d81b",
   "metadata": {},
   "source": [
    "# Program-9 WAP large number between three numbers in python\n"
   ]
  },
  {
   "cell_type": "code",
   "execution_count": 4,
   "id": "66cb8110",
   "metadata": {},
   "outputs": [
    {
     "name": "stdout",
     "output_type": "stream",
     "text": [
      "enter 1st number 4\n",
      "enter 2nd number 425\n",
      "enter 2nd number 25\n",
      "425\n"
     ]
    }
   ],
   "source": [
    "a=int(input(\"enter 1st number \"))\n",
    "b=int(input(\"enter 2nd number \"))\n",
    "c=int(input(\"enter 2nd number \")) \n",
    "li=[a,b,c]\n",
    "print(max(li))"
   ]
  },
  {
   "cell_type": "markdown",
   "id": "687b099d",
   "metadata": {},
   "source": [
    "# Program-10 WAP program to calculate compound interest in python"
   ]
  },
  {
   "cell_type": "code",
   "execution_count": 2,
   "id": "3c0d312e",
   "metadata": {},
   "outputs": [
    {
     "name": "stdout",
     "output_type": "stream",
     "text": [
      "enter principal amount 232000\n",
      "enter rate of interest 2\n",
      "enter time 133\n",
      "617120.0\n"
     ]
    }
   ],
   "source": [
    "p=int(input(\"enter principal amount \"))\n",
    "r=int(input(\"enter rate of interest \"))\n",
    "t=int(input(\"enter time \"))\n",
    "si=p*r*t/100\n",
    "print(si)"
   ]
  },
  {
   "cell_type": "markdown",
   "id": "7c1ab90b",
   "metadata": {},
   "source": [
    "# Program-11 WAP Program for value of 1+1/2+1/3+.....1/n WAP gross salary under given condition. \n"
   ]
  },
  {
   "cell_type": "code",
   "execution_count": 2,
   "id": "021dc655",
   "metadata": {},
   "outputs": [
    {
     "name": "stdout",
     "output_type": "stream",
     "text": [
      "enter you number5\n",
      "2.283333333333333\n"
     ]
    }
   ],
   "source": [
    "n=int(input(\"enter you number\"))\n",
    "sum = 0.0\n",
    "for i in range(1, n+1):\n",
    "    sum = sum +1/i\n",
    "print(sum)"
   ]
  },
  {
   "cell_type": "markdown",
   "id": "287bacce",
   "metadata": {},
   "source": [
    "# Program-12 Basic salary>=15000 DA=90% HRA-30%  Basic salary 15000 DA-98% HRA-20%\n"
   ]
  },
  {
   "cell_type": "code",
   "execution_count": 14,
   "id": "3c272f02",
   "metadata": {},
   "outputs": [
    {
     "name": "stdout",
     "output_type": "stream",
     "text": [
      "44000.0\n",
      "44000.0   is  the gross salary for a basic salary of  20000\n"
     ]
    }
   ],
   "source": [
    "basic_salary = 20000  \n",
    "if basic_salary >= 15000:\n",
    "        DA = basic_salary * 0.90\n",
    "        HRA = basic_salary * 0.30\n",
    "        gross_salary = basic_salary + DA + HRA\n",
    "        print(gross_salary)\n",
    "else:\n",
    "    print(\"Basic salary should be greater than or equal to 15000\")\n",
    "print(gross_salary,\"  is  the gross salary for a basic salary of \",basic_salary)"
   ]
  },
  {
   "cell_type": "markdown",
   "id": "6e69b147",
   "metadata": {},
   "source": [
    "# Program-13 WAP to demonstrate use of list & related functions in python\n"
   ]
  },
  {
   "cell_type": "code",
   "execution_count": 15,
   "id": "7abfec56",
   "metadata": {},
   "outputs": [
    {
     "data": {
      "text/plain": [
       "[2, 3, 4, 6, 634, 213, 2, 4, 4, 5, 9, 23]"
      ]
     },
     "execution_count": 15,
     "metadata": {},
     "output_type": "execute_result"
    }
   ],
   "source": [
    "l1=[2,3,4,6,634,213,2,4,4,5,9]\n",
    "l1.append(23)\n",
    "l1"
   ]
  },
  {
   "cell_type": "code",
   "execution_count": 16,
   "id": "fbfc0b63",
   "metadata": {},
   "outputs": [
    {
     "data": {
      "text/plain": [
       "[2, 3, 4, 6, 634, 213, 2, 4, 4, 5, 9, 23]"
      ]
     },
     "execution_count": 16,
     "metadata": {},
     "output_type": "execute_result"
    }
   ],
   "source": [
    "l1.copy()"
   ]
  },
  {
   "cell_type": "code",
   "execution_count": 18,
   "id": "38d85ae4",
   "metadata": {},
   "outputs": [
    {
     "data": {
      "text/plain": [
       "[]"
      ]
     },
     "execution_count": 18,
     "metadata": {},
     "output_type": "execute_result"
    }
   ],
   "source": [
    "l1.clear()\n",
    "l1"
   ]
  },
  {
   "cell_type": "code",
   "execution_count": 18,
   "id": "5b773d5e",
   "metadata": {},
   "outputs": [
    {
     "data": {
      "text/plain": [
       "[2, 2, 3, 4, 4, 4, 5, 6, 9, 213, 634]"
      ]
     },
     "execution_count": 18,
     "metadata": {},
     "output_type": "execute_result"
    }
   ],
   "source": [
    "l1=[2,3,4,6,634,213,2,4,4,5,9]\n",
    "l1.sort()\n",
    "l1"
   ]
  },
  {
   "cell_type": "code",
   "execution_count": 19,
   "id": "cfabdd8a",
   "metadata": {},
   "outputs": [
    {
     "data": {
      "text/plain": [
       "[634, 213, 9, 6, 5, 4, 4, 4, 3, 2, 2]"
      ]
     },
     "execution_count": 19,
     "metadata": {},
     "output_type": "execute_result"
    }
   ],
   "source": [
    "l1.reverse()\n",
    "l1"
   ]
  },
  {
   "cell_type": "code",
   "execution_count": 20,
   "id": "be755283",
   "metadata": {},
   "outputs": [
    {
     "data": {
      "text/plain": [
       "3"
      ]
     },
     "execution_count": 20,
     "metadata": {},
     "output_type": "execute_result"
    }
   ],
   "source": [
    "l1.count(4)\n"
   ]
  },
  {
   "cell_type": "code",
   "execution_count": 36,
   "id": "091fce11",
   "metadata": {},
   "outputs": [
    {
     "data": {
      "text/plain": [
       "[2, 3, 4, 6, 634, 213, 2, 4, 4, 5, 9, 23, 344]"
      ]
     },
     "execution_count": 36,
     "metadata": {},
     "output_type": "execute_result"
    }
   ],
   "source": [
    "l1=[2,3,4,6,634,213,2,4,4,5,9]\n",
    "l1.extend([23,344])\n",
    "l1"
   ]
  },
  {
   "cell_type": "code",
   "execution_count": 38,
   "id": "4f4a990b",
   "metadata": {},
   "outputs": [
    {
     "data": {
      "text/plain": [
       "[2, 3, 34, 34, 4, 6, 634, 213, 2, 4, 4, 5, 9, 23, 344]"
      ]
     },
     "execution_count": 38,
     "metadata": {},
     "output_type": "execute_result"
    }
   ],
   "source": [
    "l1.insert(2,34)\n",
    "l1"
   ]
  },
  {
   "cell_type": "code",
   "execution_count": 40,
   "id": "771de04a",
   "metadata": {},
   "outputs": [
    {
     "data": {
      "text/plain": [
       "34"
      ]
     },
     "execution_count": 40,
     "metadata": {},
     "output_type": "execute_result"
    }
   ],
   "source": [
    "l1.pop(2)"
   ]
  },
  {
   "cell_type": "code",
   "execution_count": 43,
   "id": "ec6fb0c6",
   "metadata": {},
   "outputs": [
    {
     "data": {
      "text/plain": [
       "[2, 3, 6, 634, 213, 2, 4, 4, 5, 9, 23, 344]"
      ]
     },
     "execution_count": 43,
     "metadata": {},
     "output_type": "execute_result"
    }
   ],
   "source": [
    "l1.remove(4)\n",
    "l1"
   ]
  },
  {
   "cell_type": "markdown",
   "id": "e984940a",
   "metadata": {},
   "source": [
    "# Program-14 WAP to demonstrate use of Dictionary& related functions in python "
   ]
  },
  {
   "cell_type": "code",
   "execution_count": 49,
   "id": "bff8731e",
   "metadata": {},
   "outputs": [
    {
     "data": {
      "text/plain": [
       "{}"
      ]
     },
     "execution_count": 49,
     "metadata": {},
     "output_type": "execute_result"
    }
   ],
   "source": [
    "dict1={\"Name\":\"Prateek\",\"Roll No\":50,\"course\":\"Btech(Aiml)\"}\n",
    "dict1.clear()\n",
    "dict1"
   ]
  },
  {
   "cell_type": "code",
   "execution_count": 50,
   "id": "5b828db9",
   "metadata": {},
   "outputs": [
    {
     "data": {
      "text/plain": [
       "{'Name': 'Prateek', 'Roll No': 50, 'course': 'Btech(Aiml)'}"
      ]
     },
     "execution_count": 50,
     "metadata": {},
     "output_type": "execute_result"
    }
   ],
   "source": [
    "dict1={\"Name\":\"Prateek\",\"Roll No\":50,\"course\":\"Btech(Aiml)\"}\n",
    "dict1.copy()\n"
   ]
  },
  {
   "cell_type": "code",
   "execution_count": 47,
   "id": "857cbfd7",
   "metadata": {},
   "outputs": [
    {
     "data": {
      "text/plain": [
       "{'prateek': None, 'Name': None}"
      ]
     },
     "execution_count": 47,
     "metadata": {},
     "output_type": "execute_result"
    }
   ],
   "source": [
    "\n",
    "dict1.fromkeys({'Name',\"prateek\"})"
   ]
  },
  {
   "cell_type": "code",
   "execution_count": 48,
   "id": "d8215985",
   "metadata": {},
   "outputs": [
    {
     "data": {
      "text/plain": [
       "'Prateek'"
      ]
     },
     "execution_count": 48,
     "metadata": {},
     "output_type": "execute_result"
    }
   ],
   "source": [
    "\n",
    "dict1.get('Name')\n"
   ]
  },
  {
   "cell_type": "code",
   "execution_count": 49,
   "id": "4d771804",
   "metadata": {},
   "outputs": [
    {
     "data": {
      "text/plain": [
       "dict_items([('Name', 'Prateek'), ('Roll No', 50), ('course', 'Btech(Aiml)')])"
      ]
     },
     "execution_count": 49,
     "metadata": {},
     "output_type": "execute_result"
    }
   ],
   "source": [
    "\n",
    "dict1.items()\n"
   ]
  },
  {
   "cell_type": "code",
   "execution_count": 54,
   "id": "7035be1b",
   "metadata": {},
   "outputs": [
    {
     "data": {
      "text/plain": [
       "dict_keys(['Name', 'Roll No', 'course'])"
      ]
     },
     "execution_count": 54,
     "metadata": {},
     "output_type": "execute_result"
    }
   ],
   "source": [
    "dict1={\"Name\":\"Prateek\",\"Roll No\":50,\"course\":\"Btech(Aiml)\"}\n",
    "dict1.keys()\n"
   ]
  },
  {
   "cell_type": "code",
   "execution_count": 55,
   "id": "5007917a",
   "metadata": {},
   "outputs": [
    {
     "name": "stdout",
     "output_type": "stream",
     "text": [
      "Prateek\n"
     ]
    },
    {
     "data": {
      "text/plain": [
       "{'Roll No': 50, 'course': 'Btech(Aiml)'}"
      ]
     },
     "execution_count": 55,
     "metadata": {},
     "output_type": "execute_result"
    }
   ],
   "source": [
    "dict1={\"Name\":\"Prateek\",\"Roll No\":50,\"course\":\"Btech(Aiml)\"}\n",
    "print(dict1.pop(\"Name\"))\n",
    "dict1\n"
   ]
  },
  {
   "cell_type": "code",
   "execution_count": 56,
   "id": "5d2607de",
   "metadata": {},
   "outputs": [
    {
     "name": "stdout",
     "output_type": "stream",
     "text": [
      "('course', 'Btech(Aiml)')\n"
     ]
    },
    {
     "data": {
      "text/plain": [
       "{'Name': 'Prateek', 'Roll No': 50}"
      ]
     },
     "execution_count": 56,
     "metadata": {},
     "output_type": "execute_result"
    }
   ],
   "source": [
    "dict1={\"Name\":\"Prateek\",\"Roll No\":50,\"course\":\"Btech(Aiml)\"}\n",
    "print(dict1.popitem())\n",
    "dict1\n"
   ]
  },
  {
   "cell_type": "code",
   "execution_count": 51,
   "id": "12b01e4e",
   "metadata": {},
   "outputs": [
    {
     "data": {
      "text/plain": [
       "{'Name': 'Prateek', 'Roll No': 50, 'course': 'Btech(Aiml)', 'skills': 'python'}"
      ]
     },
     "execution_count": 51,
     "metadata": {},
     "output_type": "execute_result"
    }
   ],
   "source": [
    "dict1={\"Name\":\"Prateek\",\"Roll No\":50,\"course\":\"Btech(Aiml)\"}\n",
    "dict1.setdefault(\"skills\",\"python\")\n",
    "dict1\n"
   ]
  },
  {
   "cell_type": "code",
   "execution_count": 52,
   "id": "5b7c751a",
   "metadata": {},
   "outputs": [
    {
     "data": {
      "text/plain": [
       "dict_values(['Prateek', 50, 'Btech(Aiml)', 'python'])"
      ]
     },
     "execution_count": 52,
     "metadata": {},
     "output_type": "execute_result"
    }
   ],
   "source": [
    "\n",
    "dict1.values()\n"
   ]
  },
  {
   "cell_type": "code",
   "execution_count": 54,
   "id": "20966796",
   "metadata": {},
   "outputs": [
    {
     "data": {
      "text/plain": [
       "{'Name': 'Prateek', 'Roll No': 50, 'course': 'Btech(Aiml)', 'skills': 'R '}"
      ]
     },
     "execution_count": 54,
     "metadata": {},
     "output_type": "execute_result"
    }
   ],
   "source": [
    "\n",
    "dict1.update({\"skills\":\"R \"})\n",
    "dict1"
   ]
  },
  {
   "cell_type": "markdown",
   "id": "220744ed",
   "metadata": {},
   "source": [
    "# Program-15 WAP to demonstrate use of tuple, set& related functions in python\n"
   ]
  },
  {
   "cell_type": "code",
   "execution_count": 55,
   "id": "4e577514",
   "metadata": {},
   "outputs": [
    {
     "data": {
      "text/plain": [
       "2"
      ]
     },
     "execution_count": 55,
     "metadata": {},
     "output_type": "execute_result"
    }
   ],
   "source": [
    "tu=(1,123,32,4,312,4)\n",
    "tu.count(4)"
   ]
  },
  {
   "cell_type": "code",
   "execution_count": 56,
   "id": "f1b0e180",
   "metadata": {},
   "outputs": [
    {
     "data": {
      "text/plain": [
       "2"
      ]
     },
     "execution_count": 56,
     "metadata": {},
     "output_type": "execute_result"
    }
   ],
   "source": [
    "tu=(1,123,32,4,312,4)\n",
    "tu.index(32)"
   ]
  },
  {
   "cell_type": "code",
   "execution_count": 59,
   "id": "72fbc661",
   "metadata": {},
   "outputs": [
    {
     "data": {
      "text/plain": [
       "{1, 3, 22, 33, 41}"
      ]
     },
     "execution_count": 59,
     "metadata": {},
     "output_type": "execute_result"
    }
   ],
   "source": [
    "se={1,22,33,3,1}\n",
    "se.add(41)\n",
    "se"
   ]
  },
  {
   "cell_type": "code",
   "execution_count": 58,
   "id": "927fe9c5",
   "metadata": {},
   "outputs": [
    {
     "data": {
      "text/plain": [
       "set()"
      ]
     },
     "execution_count": 58,
     "metadata": {},
     "output_type": "execute_result"
    }
   ],
   "source": [
    "se={1,22,33,3,1,}\n",
    "se.clear()\n",
    "se"
   ]
  },
  {
   "cell_type": "code",
   "execution_count": 26,
   "id": "9a801e5b",
   "metadata": {},
   "outputs": [
    {
     "data": {
      "text/plain": [
       "{1, 3, 22, 33}"
      ]
     },
     "execution_count": 26,
     "metadata": {},
     "output_type": "execute_result"
    }
   ],
   "source": [
    "se={1,22,33,3,1,}\n",
    "se.copy()"
   ]
  },
  {
   "cell_type": "code",
   "execution_count": 27,
   "id": "41a9607d",
   "metadata": {},
   "outputs": [
    {
     "data": {
      "text/plain": [
       "{1, 2}"
      ]
     },
     "execution_count": 27,
     "metadata": {},
     "output_type": "execute_result"
    }
   ],
   "source": [
    "setA = {1,2,3,4,5}\n",
    "setB = {10,3,4,5,6}\n",
    "setA.difference(setB)"
   ]
  },
  {
   "cell_type": "code",
   "execution_count": 63,
   "id": "a07ce6dd",
   "metadata": {},
   "outputs": [
    {
     "data": {
      "text/plain": [
       "{1, 2}"
      ]
     },
     "execution_count": 63,
     "metadata": {},
     "output_type": "execute_result"
    }
   ],
   "source": [
    "setA = {1,2,3,4,5}\n",
    "setB = {10,3,4,5,6}\n",
    "setA.difference_update(setB)\n",
    "setA"
   ]
  },
  {
   "cell_type": "code",
   "execution_count": 29,
   "id": "b6af6c75",
   "metadata": {},
   "outputs": [
    {
     "data": {
      "text/plain": [
       "{1, 3, 22, 33}"
      ]
     },
     "execution_count": 29,
     "metadata": {},
     "output_type": "execute_result"
    }
   ],
   "source": [
    "se={1,22,33,3,1,}\n",
    "se.discard(123)\n",
    "se"
   ]
  },
  {
   "cell_type": "code",
   "execution_count": 30,
   "id": "8068af4c",
   "metadata": {},
   "outputs": [
    {
     "data": {
      "text/plain": [
       "{1, 2, 3, 4, 5}"
      ]
     },
     "execution_count": 30,
     "metadata": {},
     "output_type": "execute_result"
    }
   ],
   "source": [
    "setA = {1,2,3,4,5}\n",
    "setB = {10,3,4,5,6}\n",
    "setA.intersection(setB)\n",
    "setA"
   ]
  },
  {
   "cell_type": "code",
   "execution_count": 31,
   "id": "8aa39046",
   "metadata": {},
   "outputs": [
    {
     "data": {
      "text/plain": [
       "{2, 3, 4, 5}"
      ]
     },
     "execution_count": 31,
     "metadata": {},
     "output_type": "execute_result"
    }
   ],
   "source": [
    "setA = {1,2,3,4,5}\n",
    "setA.intersection_update({4,5,55,3,2,22})\n",
    "setA\n"
   ]
  },
  {
   "cell_type": "code",
   "execution_count": 70,
   "id": "db604ff9",
   "metadata": {},
   "outputs": [
    {
     "data": {
      "text/plain": [
       "{2, 3, 4, 5}"
      ]
     },
     "execution_count": 70,
     "metadata": {},
     "output_type": "execute_result"
    }
   ],
   "source": [
    "setA = {1,2,3,4,5}\n",
    "setA.intersection_update({4,5,55,3,2,22})\n",
    "setA\n"
   ]
  },
  {
   "cell_type": "code",
   "execution_count": 67,
   "id": "693cf97d",
   "metadata": {},
   "outputs": [
    {
     "data": {
      "text/plain": [
       "True"
      ]
     },
     "execution_count": 67,
     "metadata": {},
     "output_type": "execute_result"
    }
   ],
   "source": [
    "se={1,22,33,3,1,}\n",
    "s={22,3,1}\n",
    "s.issubset(se)\n"
   ]
  },
  {
   "cell_type": "code",
   "execution_count": 69,
   "id": "3da35edc",
   "metadata": {},
   "outputs": [
    {
     "data": {
      "text/plain": [
       "True"
      ]
     },
     "execution_count": 69,
     "metadata": {},
     "output_type": "execute_result"
    }
   ],
   "source": [
    "\n",
    "se.issuperset(s)\n"
   ]
  },
  {
   "cell_type": "code",
   "execution_count": 70,
   "id": "7f1f0974",
   "metadata": {},
   "outputs": [
    {
     "name": "stdout",
     "output_type": "stream",
     "text": [
      "1\n",
      "{3, 22, 33}\n"
     ]
    }
   ],
   "source": [
    "\n",
    "print(se.pop())\n",
    "print(se)\n"
   ]
  },
  {
   "cell_type": "code",
   "execution_count": 35,
   "id": "48be6d9c",
   "metadata": {},
   "outputs": [
    {
     "name": "stdout",
     "output_type": "stream",
     "text": [
      "{1, 3, 22, 33}\n"
     ]
    },
    {
     "data": {
      "text/plain": [
       "{1, 22, 33}"
      ]
     },
     "execution_count": 35,
     "metadata": {},
     "output_type": "execute_result"
    }
   ],
   "source": [
    "se={1,22,33,3,1,}\n",
    "print(se)\n",
    "se.remove(3)\n",
    "se"
   ]
  },
  {
   "cell_type": "code",
   "execution_count": 36,
   "id": "cf9b639d",
   "metadata": {},
   "outputs": [
    {
     "data": {
      "text/plain": [
       "{1, 2, 6, 10}"
      ]
     },
     "execution_count": 36,
     "metadata": {},
     "output_type": "execute_result"
    }
   ],
   "source": [
    "setA = {1,2,3,4,5}\n",
    "setB = {10,3,4,5,6}\n",
    "setA.symmetric_difference(setB)"
   ]
  },
  {
   "cell_type": "code",
   "execution_count": 37,
   "id": "5873d988",
   "metadata": {},
   "outputs": [
    {
     "data": {
      "text/plain": [
       "{1, 2, 6, 10}"
      ]
     },
     "execution_count": 37,
     "metadata": {},
     "output_type": "execute_result"
    }
   ],
   "source": [
    "setA = {1,2,3,4,5}\n",
    "setB = {10,3,4,5,6}\n",
    "setA.symmetric_difference_update(setB)\n",
    "setA"
   ]
  },
  {
   "cell_type": "code",
   "execution_count": 38,
   "id": "6de456cf",
   "metadata": {},
   "outputs": [
    {
     "data": {
      "text/plain": [
       "{1, 2, 3, 4, 5, 6, 10}"
      ]
     },
     "execution_count": 38,
     "metadata": {},
     "output_type": "execute_result"
    }
   ],
   "source": [
    "setA = {1,2,3,4,5}\n",
    "setB = {10,3,4,5,6}\n",
    "setA.union(setB)\n"
   ]
  },
  {
   "cell_type": "code",
   "execution_count": 71,
   "id": "a1c53caa",
   "metadata": {},
   "outputs": [
    {
     "data": {
      "text/plain": [
       "{1, 2, 3, 4, 5, 6, 10}"
      ]
     },
     "execution_count": 71,
     "metadata": {},
     "output_type": "execute_result"
    }
   ],
   "source": [
    "\n",
    "setA.update(setB)\n",
    "setA"
   ]
  },
  {
   "cell_type": "code",
   "execution_count": null,
   "id": "6067f992",
   "metadata": {},
   "outputs": [],
   "source": []
  }
 ],
 "metadata": {
  "kernelspec": {
   "display_name": "Python 3 (ipykernel)",
   "language": "python",
   "name": "python3"
  },
  "language_info": {
   "codemirror_mode": {
    "name": "ipython",
    "version": 3
   },
   "file_extension": ".py",
   "mimetype": "text/x-python",
   "name": "python",
   "nbconvert_exporter": "python",
   "pygments_lexer": "ipython3",
   "version": "3.11.5"
  }
 },
 "nbformat": 4,
 "nbformat_minor": 5
}
